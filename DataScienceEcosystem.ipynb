{
  "nbformat": 4,
  "nbformat_minor": 0,
  "metadata": {
    "colab": {
      "provenance": []
    },
    "kernelspec": {
      "name": "python3",
      "display_name": "Python 3"
    },
    "language_info": {
      "name": "python"
    }
  },
  "cells": [
    {
      "cell_type": "markdown",
      "source": [
        "# Data Science Tools and Ecosystem"
      ],
      "metadata": {
        "id": "2QkSdtYfJIX6"
      }
    },
    {
      "cell_type": "markdown",
      "source": [
        "### In this notebook, Data Science Tools and Ecosystem are summarized."
      ],
      "metadata": {
        "id": "HoJ012_3JhZ5"
      }
    },
    {
      "cell_type": "markdown",
      "source": [
        "Some of the popular languages that Data Scientists use are:\n",
        "1. Python\n",
        "2. R\n",
        "3. Julia\n",
        "4. SQL"
      ],
      "metadata": {
        "id": "EmGnDGw2Jz3M"
      }
    },
    {
      "cell_type": "markdown",
      "source": [
        "Data Science Tools|\n",
        "------------------|\n",
        "NumPy\n",
        "pandas\n",
        "Matplotlib\n",
        "Seaborn"
      ],
      "metadata": {
        "id": "xFM91-sNOySq"
      }
    },
    {
      "cell_type": "markdown",
      "source": [
        "### Below are a few examples of evaluating arithmetic expressions in Python"
      ],
      "metadata": {
        "id": "M7DzKuRlPg7S"
      }
    },
    {
      "cell_type": "code",
      "source": [
        "(3*4)+5"
      ],
      "metadata": {
        "colab": {
          "base_uri": "https://localhost:8080/"
        },
        "id": "UCaJO8wRQxY1",
        "outputId": "c5aa5744-0bd6-456d-eaef-43e4423bda30"
      },
      "execution_count": 1,
      "outputs": [
        {
          "output_type": "execute_result",
          "data": {
            "text/plain": [
              "17"
            ]
          },
          "metadata": {},
          "execution_count": 1
        }
      ]
    },
    {
      "cell_type": "code",
      "source": [
        "# This will convert 200 minutes to hours by diving by 60\n",
        "200/60\n"
      ],
      "metadata": {
        "colab": {
          "base_uri": "https://localhost:8080/"
        },
        "id": "z8rVcYgLRB6y",
        "outputId": "37128cca-e9bd-43fd-d137-84e1edd570a7"
      },
      "execution_count": 2,
      "outputs": [
        {
          "output_type": "execute_result",
          "data": {
            "text/plain": [
              "3.3333333333333335"
            ]
          },
          "metadata": {},
          "execution_count": 2
        }
      ]
    },
    {
      "cell_type": "markdown",
      "source": [
        "# __Objectives__\n",
        "- List popular languages for Data Science\n",
        "- Multiplying integers\n",
        "- Markdown practice\n",
        "- Division"
      ],
      "metadata": {
        "id": "ZA4zgnAZZBJa"
      }
    },
    {
      "cell_type": "markdown",
      "source": [
        "## Author\n",
        "Maria Fernanda Barriba Vega"
      ],
      "metadata": {
        "id": "pnZvo7o6Z19w"
      }
    }
  ]
}